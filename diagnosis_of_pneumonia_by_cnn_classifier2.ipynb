{
  "metadata": {
    "kernelspec": {
      "display_name": "Python 3",
      "name": "python3"
    },
    "language_info": {
      "name": "python",
      "version": "3.10.12",
      "mimetype": "text/x-python",
      "codemirror_mode": {
        "name": "ipython",
        "version": 3
      },
      "pygments_lexer": "ipython3",
      "nbconvert_exporter": "python",
      "file_extension": ".py"
    },
    "colab": {
      "provenance": [],
      "include_colab_link": true
    },
    "accelerator": "TPU"
  },
  "nbformat_minor": 0,
  "nbformat": 4,
  "cells": [
    {
      "cell_type": "markdown",
      "metadata": {
        "id": "view-in-github",
        "colab_type": "text"
      },
      "source": [
        "<a href=\"https://colab.research.google.com/github/ParasharSneha/Project/blob/main/diagnosis_of_pneumonia_by_cnn_classifier2.ipynb\" target=\"_parent\"><img src=\"https://colab.research.google.com/assets/colab-badge.svg\" alt=\"Open In Colab\"/></a>"
      ]
    },
    {
      "cell_type": "markdown",
      "source": [
        "# <p><center style=\"font-family:newtimeroman;font-size:180%;\">Pneumonia Classification by Tensorflow </center></p>\n",
        "### Table of contents:\n",
        "\n",
        "* [Introduction](#1)\n",
        "* [Import Libraries](#2)\n",
        "* [Import Dataset](#3)\n",
        "* [Visualization Of Dataset](#4)\n",
        "* [Preprocessing Data](#5)\n",
        "* [Train & Compile a CNN Model](#6)\n",
        "* [Evaluate The Model](#7)\n",
        "* [Save Model](#8)"
      ],
      "metadata": {
        "id": "ifiXVcqZHxOM"
      }
    },
    {
      "cell_type": "markdown",
      "source": [
        "<a id=\"1\"></a>\n",
        "# <p style=\"background-image: url(https://i.postimg.cc/K87ByXmr/stage5.jpg);font-family:camtasia;font-size:120%;color:white;text-align:center;border-radius:15px 50px; padding:7px\"> Introduction</p>"
      ],
      "metadata": {
        "id": "omi1YyWvHxOb"
      }
    },
    {
      "cell_type": "markdown",
      "source": [
        "The dataset is organized into 3 folders (train, test, val) and contains subfolders for each image category (Pneumonia/Normal). There are 5,863 X-Ray images (JPEG) and 2 categories (Pneumonia/Normal).\n",
        "\n",
        "Chest X-ray images (anterior-posterior) were selected from retrospective cohorts of pediatric patients of one to five years old from Guangzhou Women and Children’s Medical Center, Guangzhou. All chest X-ray imaging was performed as part of patients’ routine clinical care."
      ],
      "metadata": {
        "id": "Yckx7zceHxOc"
      }
    },
    {
      "cell_type": "code",
      "source": [
        "!pip install -q kaggle"
      ],
      "metadata": {
        "id": "BQXMm6iYIXRD"
      },
      "execution_count": null,
      "outputs": []
    },
    {
      "cell_type": "code",
      "source": [
        "!mkdir -p ~/.kaggle"
      ],
      "metadata": {
        "id": "V-Hdg1idIXfD"
      },
      "execution_count": null,
      "outputs": []
    },
    {
      "cell_type": "code",
      "source": [
        "!cp kaggle.json ~/.kaggle/"
      ],
      "metadata": {
        "id": "CS54ExbKIXio"
      },
      "execution_count": null,
      "outputs": []
    },
    {
      "cell_type": "code",
      "source": [
        "!chmod 600 /root/.kaggle/kaggle.json"
      ],
      "metadata": {
        "id": "LXOCT8ouIXkV"
      },
      "execution_count": null,
      "outputs": []
    },
    {
      "cell_type": "code",
      "source": [
        "! kaggle datasets download -d paultimothymooney/chest-xray-pneumonia"
      ],
      "metadata": {
        "id": "tKQ6U59oIXmo"
      },
      "execution_count": null,
      "outputs": []
    },
    {
      "cell_type": "code",
      "source": [
        "! unzip chest-xray-pneumonia.zip"
      ],
      "metadata": {
        "id": "6yp31C7xIXp2"
      },
      "execution_count": null,
      "outputs": []
    },
    {
      "cell_type": "markdown",
      "source": [
        "<a id=\"2\"></a>\n",
        "# <p style=\"background-image: url(https://i.postimg.cc/K87ByXmr/stage5.jpg);font-family:camtasia;font-size:120%;color:white;text-align:center;border-radius:15px 50px; padding:7px\"> Import libraries</p>"
      ],
      "metadata": {
        "id": "GZeHgP7EHxOd"
      }
    },
    {
      "cell_type": "code",
      "source": [
        "from google.colab import drive\n",
        "drive.mount('/content/drive')"
      ],
      "metadata": {
        "id": "26pBU5E5I6Wd"
      },
      "execution_count": null,
      "outputs": []
    },
    {
      "cell_type": "code",
      "source": [
        "import numpy as np\n",
        "import tensorflow as tf\n",
        "from tensorflow import keras\n",
        "import matplotlib.pyplot as plt\n",
        "import seaborn as sns\n",
        "sns.set(style= \"darkgrid\", color_codes = True)\n",
        "from tensorflow.keras.applications import VGG16\n",
        "from tensorflow.keras.models import Sequential\n",
        "from tensorflow.keras.layers import Conv2D, MaxPooling2D, Dense, Flatten, Dropout, Input\n",
        "from keras.regularizers import l2\n",
        "from tensorflow.keras.metrics import Precision, Recall, BinaryAccuracy\n",
        "from sklearn.metrics import roc_curve, auc\n",
        "from tensorflow.keras.preprocessing.image import  load_img\n",
        "from sklearn.metrics import classification_report, confusion_matrix\n",
        "import warnings\n",
        "warnings.filterwarnings('ignore')"
      ],
      "metadata": {
        "execution": {
          "iopub.status.busy": "2023-08-19T08:13:51.290995Z",
          "iopub.execute_input": "2023-08-19T08:13:51.291586Z",
          "iopub.status.idle": "2023-08-19T08:14:00.927157Z",
          "shell.execute_reply.started": "2023-08-19T08:13:51.291551Z",
          "shell.execute_reply": "2023-08-19T08:14:00.925448Z"
        },
        "trusted": true,
        "id": "KRZ0B3ssHxOd"
      },
      "execution_count": null,
      "outputs": []
    },
    {
      "cell_type": "code",
      "source": [
        "import pandas as pd"
      ],
      "metadata": {
        "id": "9bdEb4fNST-4"
      },
      "execution_count": null,
      "outputs": []
    },
    {
      "cell_type": "markdown",
      "source": [
        "<a id=\"3\"></a>\n",
        "# <p style=\"background-image: url(https://i.postimg.cc/K87ByXmr/stage5.jpg);font-family:camtasia;font-size:120%;color:white;text-align:center;border-radius:15px 50px; padding:7px\">Import Data</p>\n",
        "<a class=\"btn\" href=\"#home\">Tabel of Contents</a>"
      ],
      "metadata": {
        "id": "CuSkANRyHxOh"
      }
    },
    {
      "cell_type": "code",
      "source": [
        "# Define image size and other parameters\n",
        "img_width, img_height = 198, 198\n",
        "batchsize = 32\n",
        "epochs = 2\n",
        "num_of_class = 2\n",
        "\n",
        "train = keras. utils.image_dataset_from_directory(\n",
        "    directory='/content/chest_xray/train',\n",
        "    labels='inferred',\n",
        "    label_mode='categorical',\n",
        "    batch_size=batchsize,\n",
        "    image_size=(img_width, img_height))\n",
        "\n",
        "validation = keras. utils.image_dataset_from_directory(\n",
        "    directory='/content/chest_xray/val',\n",
        "    labels='inferred',\n",
        "    label_mode='categorical',\n",
        "    batch_size=batchsize,\n",
        "    image_size=(img_width, img_height))\n",
        "\n",
        "test = keras. utils.image_dataset_from_directory(\n",
        "    directory='/content/chest_xray/test',\n",
        "    labels='inferred',\n",
        "    label_mode='categorical',\n",
        "    batch_size=batchsize,\n",
        "    image_size=(img_width, img_height))\n"
      ],
      "metadata": {
        "execution": {
          "iopub.status.busy": "2023-08-19T08:14:11.773780Z",
          "iopub.execute_input": "2023-08-19T08:14:11.774460Z",
          "iopub.status.idle": "2023-08-19T08:14:18.664091Z",
          "shell.execute_reply.started": "2023-08-19T08:14:11.774423Z",
          "shell.execute_reply": "2023-08-19T08:14:18.663177Z"
        },
        "trusted": true,
        "id": "nc1cYqBBHxOi"
      },
      "execution_count": null,
      "outputs": []
    },
    {
      "cell_type": "markdown",
      "source": [
        "<a id=\"4\"></a>\n",
        "# <p style=\"background-image: url(https://i.postimg.cc/K87ByXmr/stage5.jpg);font-family:camtasia;font-size:120%;color:white;text-align:center;border-radius:15px 50px; padding:7px\">Visualization Of Data </p>\n",
        "<a class=\"btn\" href=\"#home\">Tabel of Contents</a>"
      ],
      "metadata": {
        "id": "01PZD5A8HxOj"
      }
    },
    {
      "cell_type": "code",
      "source": [
        "plt.pie([len(train), len(validation), len(test)],\n",
        "        labels=['train', 'validation', 'test'], autopct='%.1f%%', colors=['orange', 'red', 'lightblue'], explode=(0.05, 0, 0))\n",
        "plt.show()"
      ],
      "metadata": {
        "execution": {
          "iopub.status.busy": "2023-08-19T08:14:23.261434Z",
          "iopub.execute_input": "2023-08-19T08:14:23.261851Z",
          "iopub.status.idle": "2023-08-19T08:14:23.444035Z",
          "shell.execute_reply.started": "2023-08-19T08:14:23.261816Z",
          "shell.execute_reply": "2023-08-19T08:14:23.442554Z"
        },
        "trusted": true,
        "id": "weo0rxcIHxOk"
      },
      "execution_count": null,
      "outputs": []
    },
    {
      "cell_type": "code",
      "source": [
        "print(train.class_names)\n",
        "print(validation.class_names)\n",
        "print(test.class_names)"
      ],
      "metadata": {
        "editable": false,
        "execution": {
          "iopub.status.busy": "2023-08-19T08:08:43.856023Z",
          "iopub.execute_input": "2023-08-19T08:08:43.856432Z",
          "iopub.status.idle": "2023-08-19T08:08:43.863711Z",
          "shell.execute_reply.started": "2023-08-19T08:08:43.856395Z",
          "shell.execute_reply": "2023-08-19T08:08:43.861930Z"
        },
        "trusted": true,
        "id": "iBAi0XQ_HxOk"
      },
      "execution_count": null,
      "outputs": []
    },
    {
      "cell_type": "code",
      "source": [
        "data_iterator = train.as_numpy_iterator()\n",
        "batch = data_iterator.next()\n",
        "fig, ax = plt.subplots(ncols=4, figsize=(20,20))\n",
        "for idx, img in enumerate(batch[0][:4]):\n",
        "    ax[idx].imshow(img.astype(int))\n",
        "    ax[idx].title.set_text(batch[1][idx])"
      ],
      "metadata": {
        "editable": false,
        "execution": {
          "iopub.status.busy": "2023-08-19T08:14:31.357949Z",
          "iopub.execute_input": "2023-08-19T08:14:31.358329Z",
          "iopub.status.idle": "2023-08-19T08:14:36.187833Z",
          "shell.execute_reply.started": "2023-08-19T08:14:31.358293Z",
          "shell.execute_reply": "2023-08-19T08:14:36.186937Z"
        },
        "trusted": true,
        "id": "HuzlL04bHxOl"
      },
      "execution_count": null,
      "outputs": []
    },
    {
      "cell_type": "markdown",
      "source": [
        "<a id=\"5\"></a>\n",
        "# <p style=\"background-image: url(https://i.postimg.cc/K87ByXmr/stage5.jpg);font-family:camtasia;font-size:120%;color:white;text-align:center;border-radius:15px 50px; padding:7px\"> Preprocessing Data </p>\n",
        "<a class=\"btn\" href=\"#home\">Tabel of Contents</a>"
      ],
      "metadata": {
        "id": "rMiwlnSjHxOm"
      }
    },
    {
      "cell_type": "code",
      "source": [
        "# Extracting Features and Labels\n",
        "x_train = []\n",
        "y_train = []\n",
        "x_val = []\n",
        "y_val = []\n",
        "x_test = []\n",
        "y_test = []\n",
        "\n",
        "for feature, label in train:\n",
        "    x_train.append(feature.numpy())\n",
        "    y_train.append(label.numpy())\n",
        "\n",
        "for feature, label in test:\n",
        "    x_test.append(feature.numpy())\n",
        "    y_test.append(label.numpy())\n",
        "\n",
        "for feature, label in validation:\n",
        "    x_val.append(feature.numpy())\n",
        "    y_val.append(label.numpy())\n",
        "\n",
        "# Concatenate the lists to get the full 'x' and 'y' arrays\n",
        "x_train = np.concatenate(x_train, axis=0)\n",
        "x_val = np.concatenate(x_val, axis=0)\n",
        "x_test = np.concatenate(x_test, axis=0)\n",
        "y_train = np.concatenate(y_train, axis=0)\n",
        "y_val = np.concatenate(y_val, axis=0)\n",
        "y_test = np.concatenate(y_test, axis=0)\n"
      ],
      "metadata": {
        "execution": {
          "iopub.status.busy": "2023-08-19T08:14:40.423656Z",
          "iopub.execute_input": "2023-08-19T08:14:40.424013Z",
          "iopub.status.idle": "2023-08-19T08:15:30.846854Z",
          "shell.execute_reply.started": "2023-08-19T08:14:40.423982Z",
          "shell.execute_reply": "2023-08-19T08:15:30.845800Z"
        },
        "trusted": true,
        "id": "I3CcOoXUHxOn"
      },
      "execution_count": null,
      "outputs": []
    },
    {
      "cell_type": "code",
      "source": [
        "# check the shapes of 'x_train' and 'y_train':\n",
        "print(\"Shape of 'x_train':\", x_train.shape)\n",
        "print(\"Shape of 'y_train':\", y_train.shape)\n",
        "print(\"Shape of 'x_val':\", x_val.shape)\n",
        "print(\"Shape of 'y_val':\", y_val.shape)\n",
        "print(\"Shape of 'x_test':\", x_test.shape)\n",
        "print(\"Shape of 'y_test':\", y_test.shape)"
      ],
      "metadata": {
        "execution": {
          "iopub.status.busy": "2023-08-19T08:15:49.703170Z",
          "iopub.execute_input": "2023-08-19T08:15:49.703880Z",
          "iopub.status.idle": "2023-08-19T08:15:49.714061Z",
          "shell.execute_reply.started": "2023-08-19T08:15:49.703845Z",
          "shell.execute_reply": "2023-08-19T08:15:49.709337Z"
        },
        "trusted": true,
        "id": "8fvKkfB9HxOn"
      },
      "execution_count": null,
      "outputs": []
    },
    {
      "cell_type": "code",
      "source": [
        "# Pixel Value Scaling for Datasets: Normalizing and Standardizing the Data\n",
        "x_train=x_train/256\n",
        "x_val=x_val/256\n",
        "x_test=x_test/256"
      ],
      "metadata": {
        "execution": {
          "iopub.status.busy": "2023-08-19T08:15:53.795631Z",
          "iopub.execute_input": "2023-08-19T08:15:53.796002Z",
          "iopub.status.idle": "2023-08-19T08:15:57.838753Z",
          "shell.execute_reply.started": "2023-08-19T08:15:53.795971Z",
          "shell.execute_reply": "2023-08-19T08:15:57.825544Z"
        },
        "trusted": true,
        "id": "ii_XCUXuHxOo"
      },
      "execution_count": null,
      "outputs": []
    },
    {
      "cell_type": "markdown",
      "source": [
        "<a id=\"6\"></a>\n",
        "# <p style=\"background-image: url(https://i.postimg.cc/K87ByXmr/stage5.jpg);font-family:camtasia;font-size:120%;color:white;text-align:center;border-radius:15px 50px; padding:7px\"> Train and Compile a Model </p>\n",
        "<a class=\"btn\" href=\"#home\">Tabel of Contents</a>"
      ],
      "metadata": {
        "id": "wBp9JImrHxOo"
      }
    },
    {
      "cell_type": "code",
      "source": [
        "# We use transfer learning with VGG16 as the base model\n",
        "def CNN_Model():\n",
        "    base_model = VGG16(weights='imagenet', include_top = False, input_shape=(img_width, img_height, 3))\n",
        "    # Freeze the base model\n",
        "    for layer in base_model.layers:\n",
        "        layer.trainable = False\n",
        "\n",
        "    for i in range(3):\n",
        "        base_model.layers[-2-i].trainable = True\n",
        "\n",
        "    CNN = Sequential()\n",
        "    CNN.add(Input(shape=(img_width, img_height,3)))\n",
        "    CNN.add(base_model)\n",
        "    CNN.add(Flatten())\n",
        "    CNN.add(Dropout(0.3))\n",
        "    CNN.add(Dense(128, activation='relu', kernel_regularizer=l2(0.02)))\n",
        "    CNN.add(Dropout(0.2))\n",
        "    CNN.add(Dense(2, activation='sigmoid'))\n",
        "\n",
        "    return CNN\n",
        "\n",
        "# Training The CNN\n",
        "model = CNN_Model()\n",
        "model.compile(optimizer='adam', loss='binary_crossentropy', metrics=['accuracy'])\n",
        "model.summary()\n",
        "# Visualized Layers of CNN\n",
        "keras.utils.plot_model(model, show_shapes=True)"
      ],
      "metadata": {
        "execution": {
          "iopub.status.busy": "2023-08-19T08:16:00.461473Z",
          "iopub.execute_input": "2023-08-19T08:16:00.461838Z",
          "iopub.status.idle": "2023-08-19T08:16:02.126227Z",
          "shell.execute_reply.started": "2023-08-19T08:16:00.461809Z",
          "shell.execute_reply": "2023-08-19T08:16:02.125239Z"
        },
        "trusted": true,
        "id": "JnKo2HxhHxOp"
      },
      "execution_count": null,
      "outputs": []
    },
    {
      "cell_type": "code",
      "source": [
        "hist = model.fit(x_train, y_train, epochs= epochs, validation_data= (x_val, y_val))\n",
        "print(hist.history)\n",
        "best_score = max(hist.history['val_accuracy'])\n",
        "print(f\"Best Validation score is: {best_score}\")"
      ],
      "metadata": {
        "execution": {
          "iopub.status.busy": "2023-08-19T08:16:08.518327Z",
          "iopub.execute_input": "2023-08-19T08:16:08.518691Z"
        },
        "trusted": true,
        "id": "HznTCO86HxOq"
      },
      "execution_count": null,
      "outputs": []
    },
    {
      "cell_type": "markdown",
      "source": [
        "<a id=\"7\"></a>\n",
        "# <p style=\"background-image: url(https://i.postimg.cc/K87ByXmr/stage5.jpg);font-family:camtasia;font-size:120%;color:white;text-align:center;border-radius:15px 50px; padding:7px\"> Evaluate The Model </p>\n",
        "<a class=\"btn\" href=\"#home\">Tabel of Contents</a>"
      ],
      "metadata": {
        "id": "jsuG0hwdHxOr"
      }
    },
    {
      "cell_type": "code",
      "source": [
        "# Extract the training and validation loss values from the history object\n",
        "train_loss = hist.history['loss']\n",
        "val_loss = hist.history['val_loss']\n",
        "\n",
        "# Create a list of epoch numbers (1 to number of epochs)\n",
        "epochs = range(1, len(train_loss) + 1)\n",
        "\n",
        "# Plot the loss graph\n",
        "plt.plot(epochs, train_loss, label='Training Loss')\n",
        "plt.plot(epochs, val_loss, label='Validation Loss')\n",
        "plt.title('Training and Validation Loss')\n",
        "plt.xlabel('Epochs')\n",
        "plt.ylabel('Loss')\n",
        "plt.legend()\n",
        "plt.grid(True)\n",
        "plt.show()"
      ],
      "metadata": {
        "editable": false,
        "execution": {
          "iopub.status.busy": "2023-08-18T17:18:35.524807Z",
          "iopub.execute_input": "2023-08-18T17:18:35.525179Z",
          "iopub.status.idle": "2023-08-18T17:18:35.899176Z",
          "shell.execute_reply.started": "2023-08-18T17:18:35.525146Z",
          "shell.execute_reply": "2023-08-18T17:18:35.898275Z"
        },
        "trusted": true,
        "id": "UmzICCemHxOr"
      },
      "execution_count": null,
      "outputs": []
    },
    {
      "cell_type": "code",
      "source": [
        "# Extract the training and validation loss values from the history object\n",
        "train_accuracy = hist.history['accuracy']\n",
        "val_accuracy = hist.history['val_accuracy']\n",
        "\n",
        "# Create a list of epoch numbers (1 to number of epochs)\n",
        "epochs = range(1, len(train_accuracy) + 1)\n",
        "\n",
        "# Plot the loss graph\n",
        "plt.plot(epochs, train_accuracy , label='Training Acc')\n",
        "plt.plot(epochs, val_accuracy, label='Validation Acc')\n",
        "plt.title('Training and Validation Accuracy')\n",
        "plt.xlabel('Epochs')\n",
        "plt.ylabel('Acc')\n",
        "plt.legend()\n",
        "plt.grid(True)\n",
        "plt.show()"
      ],
      "metadata": {
        "editable": false,
        "execution": {
          "iopub.status.busy": "2023-08-18T17:18:48.022284Z",
          "iopub.execute_input": "2023-08-18T17:18:48.023015Z",
          "iopub.status.idle": "2023-08-18T17:18:48.399668Z",
          "shell.execute_reply.started": "2023-08-18T17:18:48.022979Z",
          "shell.execute_reply": "2023-08-18T17:18:48.398696Z"
        },
        "trusted": true,
        "id": "rlQkPkIvHxOs"
      },
      "execution_count": null,
      "outputs": []
    },
    {
      "cell_type": "code",
      "source": [
        "print(\"Loss of model:\", model.evaluate(x_test,y_test)[0])\n",
        "print(\"Accuracy of model:\", model.evaluate(x_test,y_test)[1]*100,\"%\")"
      ],
      "metadata": {
        "id": "MbtHzGaDNIq4"
      },
      "execution_count": null,
      "outputs": []
    },
    {
      "cell_type": "code",
      "source": [
        "pred = model.predict(x_test)\n",
        "for i in range(len(pred)):\n",
        "  pred[i] = 1 if pred[i].any()>0.5 else 0"
      ],
      "metadata": {
        "id": "9OLKFhHlOH2c"
      },
      "execution_count": null,
      "outputs": []
    },
    {
      "cell_type": "code",
      "source": [
        "print(classification_report(y_test,\n",
        "                            pred,\n",
        "                            target_names = ['Pneumonia (Class 0)','Normal (Class 1)']))"
      ],
      "metadata": {
        "id": "-LrmRRiaOHvI"
      },
      "execution_count": null,
      "outputs": []
    },
    {
      "cell_type": "code",
      "source": [
        "cm = confusion_matrix(y_test, pred)\n",
        "cm = pd.DataFrame(cm , index=['0','1'])\n",
        "cm"
      ],
      "metadata": {
        "id": "LUBWhXPcSDfz"
      },
      "execution_count": null,
      "outputs": []
    },
    {
      "cell_type": "markdown",
      "source": [
        "<a id=\"8\"></a>\n",
        "# <p style=\"background-image: url(https://i.postimg.cc/K87ByXmr/stage5.jpg);font-family:camtasia;font-size:120%;color:white;text-align:center;border-radius:15px 50px; padding:7px\"> Save Model  </p>\n",
        "<a class=\"btn\" href=\"#home\">Tabel of Contents</a>"
      ],
      "metadata": {
        "id": "qJ5vqg5qHxOs"
      }
    },
    {
      "cell_type": "code",
      "source": [
        "# Save the model\n",
        "model.save('CNN_model.h5')\n",
        "print (\"Model saved successfully!\")"
      ],
      "metadata": {
        "execution": {
          "iopub.status.busy": "2023-08-15T13:10:27.422047Z",
          "iopub.execute_input": "2023-08-15T13:10:27.422487Z",
          "iopub.status.idle": "2023-08-15T13:10:27.672492Z",
          "shell.execute_reply.started": "2023-08-15T13:10:27.422446Z",
          "shell.execute_reply": "2023-08-15T13:10:27.671159Z"
        },
        "trusted": true,
        "id": "UZsBgOzGHxOt"
      },
      "execution_count": null,
      "outputs": []
    }
  ]
}